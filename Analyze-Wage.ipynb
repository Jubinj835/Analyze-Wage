{
 "cells": [
  {
   "cell_type": "markdown",
   "id": "64ea4107-c24c-42d5-8e12-1309ff801e9b",
   "metadata": {
    "tags": []
   },
   "source": [
    "# Analyze Wage Data with Python\n",
    "\n",
    "- [View Solution Notebook](./solutions.html)\n",
    "- [View Project Page](https://www.codecademy.com/projects/practice/analyze-wage-data-with-python)"
   ]
  },
  {
   "cell_type": "markdown",
   "id": "fb1954dd-07f0-4544-aa1f-ba0e16c01314",
   "metadata": {
    "tags": []
   },
   "source": [
    "## Task Group 1 - Import and Clean"
   ]
  },
  {
   "cell_type": "markdown",
   "id": "7ca74136-3d4d-476a-a22d-4a954c133ea4",
   "metadata": {},
   "source": [
    "### Task 1\n",
    "\n",
    "Display the first five lines of `df_wages`."
   ]
  },
  {
   "cell_type": "code",
   "execution_count": null,
   "id": "b6d195a1-20e3-4e00-a95c-d830219cd667",
   "metadata": {},
   "outputs": [],
   "source": [
    "import pandas as pd\n",
    "\n",
    "df_wages = pd.read_csv('wages.csv')\n",
    "\n",
    "# Preview the data\n",
    "df_wages.head()"
   ]
  },
  {
   "cell_type": "markdown",
   "id": "d2381b76",
   "metadata": {},
   "source": [
    "### Task 2\n",
    "\n",
    "Rename the `Occupation title (click on the occupation title to view its profile)` column to `Occupation title`. "
   ]
  },
  {
   "cell_type": "code",
   "execution_count": null,
   "id": "7e69e90c",
   "metadata": {},
   "outputs": [],
   "source": [
    "col_mapper = {'Occupation title (click on the occupation title to view its profile)':'Occupation title'}\n",
    "df_wages = df_wages.rename(mapper = col_mapper, axis=1)\n",
    "\n",
    "# show output\n",
    "df_wages.head()"
   ]
  },
  {
   "cell_type": "markdown",
   "id": "2c8730dd-8a8a-4423-b423-e3feba6b93ba",
   "metadata": {},
   "source": [
    "### Task 3\n",
    "\n",
    "Drop any redundant or otherwise unnecessary columns from `df_wages`. Make a note of why these columns are suitable for dropping!"
   ]
  },
  {
   "cell_type": "code",
   "execution_count": null,
   "id": "c0339a3b-f94b-4555-9be3-cdd5217da812",
   "metadata": {},
   "outputs": [],
   "source": [
    "drop_column_labels = ['Index', 'Year']\n",
    "df_wages = df_wages.drop(labels=drop_column_labels, axis=1)\n",
    "\n",
    "# show output\n",
    "df_wages.head()"
   ]
  },
  {
   "cell_type": "markdown",
   "id": "474b5d05-8a27-495f-9bf8-1ea7561b72ae",
   "metadata": {},
   "source": [
    "### Task 4\n",
    "\n",
    "Display column information including names, # non-null entries, and data types."
   ]
  },
  {
   "cell_type": "code",
   "execution_count": null,
   "id": "2bbb3f80-28f1-4e30-8f23-d0859ce5ce0c",
   "metadata": {},
   "outputs": [],
   "source": [
    "df_wages.info()"
   ]
  },
  {
   "cell_type": "markdown",
   "id": "47795a24-1d0b-410e-9334-48d49bc82c85",
   "metadata": {},
   "source": [
    "## Task Group 2 - Column Transformations"
   ]
  },
  {
   "cell_type": "markdown",
   "id": "54a3e724-5bfe-4ff4-8dc9-ae1b42c68e0c",
   "metadata": {},
   "source": [
    "### Task 5\n",
    "\n",
    "Use pandas to split the information in the `Occupation title` column into new columns `Industry`, `Level`, and `Occupation`. "
   ]
  },
  {
   "cell_type": "code",
   "execution_count": null,
   "id": "b15c14fa-f76d-480a-985c-9f89928a0efe",
   "metadata": {},
   "outputs": [],
   "source": [
    "title_split = df_wages['Occupation title'].str.split('-', expand=True)\n",
    "df_wages['Industry'] = title_split[0]\n",
    "df_wages['Level'] = title_split[1]\n",
    "df_wages['Occupation'] = title_split[2]\n",
    "\n",
    "# show output\n",
    "df_wages[['Occupation title', 'Industry', 'Level', 'Occupation']].head()"
   ]
  },
  {
   "cell_type": "markdown",
   "id": "a226e990-7175-419e-985c-aa567cc32640",
   "metadata": {},
   "source": [
    "### Task 6\n",
    "\n",
    "Remove any leading and trailing whitespaces in the columns `Industry`, `Level`, and `Occupation`."
   ]
  },
  {
   "cell_type": "code",
   "execution_count": null,
   "id": "5bd896cf-571e-47c3-8816-81a492131e9b",
   "metadata": {},
   "outputs": [],
   "source": [
    "df_wages['Industry'] = df_wages['Industry'].str.strip()\n",
    "df_wages['Level'] = df_wages['Level'].str.strip()\n",
    "df_wages['Occupation'] = df_wages['Occupation'].str.strip()"
   ]
  },
  {
   "cell_type": "markdown",
   "id": "ab6f4e3d-ffb1-4523-b154-6b25f43b74f2",
   "metadata": {},
   "source": [
    "### Task 7\n",
    "\n",
    "Replace the `'$'` character in the columns `Average hourly wage`, `Industry average`, and `Similar occupation average` with an empty character `''` (no space between the single quotes!)."
   ]
  },
  {
   "cell_type": "code",
   "execution_count": null,
   "id": "c7f763cb-1178-4a35-a10d-9c99cc48732a",
   "metadata": {},
   "outputs": [],
   "source": [
    "df_wages['Average hourly wage'] = df_wages['Average hourly wage'].str.replace('$', '', regex=False)\n",
    "df_wages['Industry average'] = df_wages['Industry average'].str.replace('$', '', regex=False)\n",
    "df_wages['Similar occupation average'] = df_wages['Similar occupation average'].str.replace('$', '', regex=False)\n",
    "\n",
    "# show output\n",
    "df_wages[['Average hourly wage', 'Industry average', 'Similar occupation average']].head()"
   ]
  },
  {
   "cell_type": "markdown",
   "id": "b8daf619-5ddf-40bc-8382-2622f90d6248",
   "metadata": {},
   "source": [
    "### Task 8\n",
    "\n",
    "Convert the data types of the columns `Average hourly wage`, `Industry average`, and `Similar occupation average` from `object` to `float`."
   ]
  },
  {
   "cell_type": "code",
   "execution_count": null,
   "id": "5a9f50f6-307c-4608-a37e-f4d96bab3ac9",
   "metadata": {},
   "outputs": [],
   "source": [
    "df_wages['Average hourly wage']  = df_wages['Average hourly wage'].astype(float)\n",
    "df_wages['Industry average'] = df_wages['Industry average'].astype(float)\n",
    "df_wages['Similar occupation average'] = df_wages['Similar occupation average'].astype(float)\n",
    "\n",
    "# show output\n",
    "df_wages.info()"
   ]
  },
  {
   "cell_type": "markdown",
   "id": "058ea3f7-22eb-468a-92b7-1455bcafa6c7",
   "metadata": {},
   "source": [
    "## Task Group 3 - Comparison to Industry Average"
   ]
  },
  {
   "cell_type": "markdown",
   "id": "599e642d-2839-4da4-829c-b1ba90beddb3",
   "metadata": {},
   "source": [
    "### Task 9\n",
    "\n",
    "Calculate the difference between the average hourly wage and the industry average. Assign the difference to a new column `Industry wage difference`."
   ]
  },
  {
   "cell_type": "code",
   "execution_count": null,
   "id": "da784ebf-0cb3-4727-8da2-366853edaa4a",
   "metadata": {},
   "outputs": [],
   "source": [
    "df_wages['Industry wage difference'] = df_wages['Average hourly wage'] - df_wages['Industry average']\n",
    "\n",
    "df_wages[['Occupation', 'Average hourly wage', 'Industry average', 'Industry wage difference']].head()"
   ]
  },
  {
   "cell_type": "markdown",
   "id": "01d38192-1875-46eb-9977-e579b5701e2d",
   "metadata": {},
   "source": [
    "### Task 10\n",
    "\n",
    "Divide `Industry wage difference` by `Industry average` to convert the difference to a percent change. (You might want to multiply by `100` at the end to display as a percentage).\n",
    "\n",
    "Assign the result to new column called `Industry wage pctchg`. "
   ]
  },
  {
   "cell_type": "code",
   "execution_count": null,
   "id": "0d8f4aa0-df76-4bfd-a5ce-13e4c899eec3",
   "metadata": {},
   "outputs": [],
   "source": [
    "df_wages['Industry wage pctchg'] = df_wages['Industry wage difference']/df_wages['Industry average'] * 100\n",
    "\n",
    "df_wages[['Industry', 'Occupation','Level', 'Average hourly wage', 'Industry average', 'Industry wage pctchg']].head()"
   ]
  },
  {
   "cell_type": "markdown",
   "id": "0a973d2a-2a57-440d-b4da-5ad3e303b277",
   "metadata": {},
   "source": [
    "### Task 11\n",
    "\n",
    "Sort `df_wages` by the `Industry wage pctchg` column from *highest* to *lowest*. Assign the result to the variable `highest_industry_pctchg`."
   ]
  },
  {
   "cell_type": "code",
   "execution_count": null,
   "id": "bac8e251-425b-41e8-999a-7b6b9939c4b6",
   "metadata": {},
   "outputs": [],
   "source": [
    "highest_industry_pctchg = df_wages.sort_values(by='Industry wage pctchg', ascending=False)\n",
    "\n",
    "highest_industry_pctchg[['Industry', 'Occupation','Level', 'Industry wage pctchg']].head(10)"
   ]
  },
  {
   "cell_type": "markdown",
   "id": "1eea528e",
   "metadata": {},
   "source": [
    "## Task Group 4 - Computer Jobs"
   ]
  },
  {
   "cell_type": "markdown",
   "id": "196cb84e",
   "metadata": {},
   "source": [
    "### Task 12\n",
    "\n",
    "Use the separate `Industry` column you created in Task 5 to investigate occupations in the **'Computer and Mathematical Occupations'** industry. Filter `df_wages` for this specific industry and create a new DataFrame named `cs_math_occupations`."
   ]
  },
  {
   "cell_type": "code",
   "execution_count": null,
   "id": "b8dde112",
   "metadata": {},
   "outputs": [],
   "source": [
    "cs_math_occupations = df_wages[df_wages['Industry'] == 'Computer and Mathematical Occupations']"
   ]
  },
  {
   "cell_type": "markdown",
   "id": "643af850",
   "metadata": {},
   "source": [
    "### Task 13\n",
    "\n",
    "Sort `cs_math_occupations` by `Average hourly wage` from highest to lowest, and display the results."
   ]
  },
  {
   "cell_type": "code",
   "execution_count": null,
   "id": "7556b554",
   "metadata": {},
   "outputs": [],
   "source": [
    "cs_math_occupations_sorted = cs_math_occupations.sort_values(by='Average hourly wage',ascending=False)\n",
    "\n",
    "# show output\n",
    "cs_math_occupations_sorted.head(10)"
   ]
  }
 ],
 "metadata": {
  "kernelspec": {
   "display_name": "Python 3 (ipykernel)",
   "language": "python",
   "name": "python3"
  },
  "language_info": {
   "codemirror_mode": {
    "name": "ipython",
    "version": 3
   },
   "file_extension": ".py",
   "mimetype": "text/x-python",
   "name": "python",
   "nbconvert_exporter": "python",
   "pygments_lexer": "ipython3",
   "version": "3.8.10"
  }
 },
 "nbformat": 4,
 "nbformat_minor": 5
}
